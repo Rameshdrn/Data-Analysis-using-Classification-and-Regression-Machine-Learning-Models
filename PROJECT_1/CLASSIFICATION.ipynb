{
 "cells": [
  {
   "cell_type": "code",
   "execution_count": 1,
   "id": "f95c5a04",
   "metadata": {},
   "outputs": [],
   "source": [
    "import numpy as np\n",
    "import pandas as pd\n",
    "import matplotlib.pyplot as plt\n",
    "import pandas as pd\n",
    "from sklearn.tree import DecisionTreeClassifier\n",
    "from sklearn.metrics import confusion_matrix\n",
    "from sklearn.metrics import accuracy_score"
   ]
  },
  {
   "cell_type": "code",
   "execution_count": 2,
   "id": "dfc9868d",
   "metadata": {},
   "outputs": [],
   "source": [
    "\n",
    "data = pd.read_csv(\"exam_1_classification_option2.csv\")"
   ]
  },
  {
   "cell_type": "code",
   "execution_count": 3,
   "id": "f782f344",
   "metadata": {},
   "outputs": [],
   "source": [
    "\"\"\"Created on Mon Mar 18 18:25:50 2019\n",
    "\n",
    "@author: Uri Smashnov\n",
    "\n",
    "Purpose: Analyze input Pandas DataFrame and return stats per column\n",
    "Details: The function calculates levels for categorical variables and allows to analyze summarized information\n",
    "\n",
    "To view wide table set following Pandas options:\n",
    "pd.set_option('display.width', 1000)\n",
    "pd.set_option('max_colwidth',200)\n",
    "\"\"\"\n",
    "import pandas as pd\n",
    "def describe_more(df,normalize_ind=False, weight_column=None, skip_columns=[], dropna=True):\n",
    "    var = [] ; l = [] ; t = []; unq =[]; min_l = []; max_l = [];\n",
    "    assert isinstance(skip_columns, list), \"Argument skip_columns should be list\"\n",
    "    if weight_column is not None:\n",
    "        if weight_column not in list(df.columns):\n",
    "            raise AssertionError('weight_column is not a valid column name in the input DataFrame')\n",
    "      \n",
    "    for x in df:\n",
    "        if x in skip_columns:\n",
    "            pass\n",
    "        else:\n",
    "            var.append( x )\n",
    "            uniq_counts = len(pd.value_counts(df[x],dropna=dropna))\n",
    "            uniq_counts = len(pd.value_counts(df[x], dropna=dropna)[pd.value_counts(df[x],dropna=dropna)>0])\n",
    "            l.append(uniq_counts)\n",
    "            t.append( df[ x ].dtypes )\n",
    "            min_l.append(df[x].apply(str).str.len().min())\n",
    "            max_l.append(df[x].apply(str).str.len().max())\n",
    "            if weight_column is not None and x not in skip_columns:\n",
    "                df2 = df.groupby(x).agg({weight_column: 'sum'}).sort_values(weight_column, ascending=False)\n",
    "                df2['authtrans_vts_cnt']=((df2[weight_column])/df2[weight_column].sum()).round(2)\n",
    "                unq.append(df2.head(n=100).to_dict()[weight_column])\n",
    "            else:\n",
    "                df_cat_d = df[x].value_counts(normalize=normalize_ind,dropna=dropna).round(decimals=2)\n",
    "                df_cat_d = df_cat_d[df_cat_d>0]\n",
    "                #unq.append(df[x].value_counts().iloc[0:100].to_dict())\n",
    "                unq.append(df_cat_d.iloc[0:100].to_dict())\n",
    "            \n",
    "    levels = pd.DataFrame( { 'A_Variable' : var , 'Levels' : l , 'Datatype' : t ,\n",
    "                             'Min Length' : min_l,\n",
    "                             'Max Length': max_l,\n",
    "                             'Level_Values' : unq} )\n",
    "    #levels.sort_values( by = 'Levels' , inplace = True )\n",
    "    return levels"
   ]
  },
  {
   "cell_type": "code",
   "execution_count": 4,
   "id": "05eb7296",
   "metadata": {},
   "outputs": [],
   "source": [
    "from sklearn.model_selection import train_test_split\n",
    "X = data.drop(columns='y')\n",
    "y= data['y']\n",
    "X_train, X_test, y_train, y_test = train_test_split(X,y, test_size=0.25, random_state=0)"
   ]
  },
  {
   "cell_type": "code",
   "execution_count": 5,
   "id": "30d7bc1c",
   "metadata": {},
   "outputs": [],
   "source": [
    "dtree = DecisionTreeClassifier(random_state=0)\n",
    "dtree.fit(X_train, y_train)\n",
    "y_test_pred = dtree.predict(X_test)\n",
    "y_train_pred = dtree.predict(X_train)"
   ]
  },
  {
   "cell_type": "code",
   "execution_count": 6,
   "id": "d210ac1b",
   "metadata": {},
   "outputs": [
    {
     "name": "stdout",
     "output_type": "stream",
     "text": [
      "[[1108  171]\n",
      " [ 151 1070]]\n",
      "[[3724    0]\n",
      " [   0 3776]]\n",
      "0.8712\n",
      "1.0\n"
     ]
    }
   ],
   "source": [
    "# Confusion Matrix\n",
    "from sklearn.metrics import confusion_matrix\n",
    "print(confusion_matrix(y_test, y_test_pred))\n",
    "print(confusion_matrix(y_train, y_train_pred))\n",
    "# Accuracy\n",
    "from sklearn.metrics import accuracy_score\n",
    "print(accuracy_score(y_test, y_test_pred))\n",
    "print(accuracy_score(y_train, y_train_pred))"
   ]
  },
  {
   "cell_type": "markdown",
   "id": "72efe7ba",
   "metadata": {},
   "source": [
    "## Reason why test data performance is poor:\n",
    "- 1. Model Overfitting\n",
    "    - As we can see, the accuracy for training data is 1.0 which means overfitting. When the model memorizes the noise and fits too closely to the training set, the model becomes “overfitted,” and it is unable to generalize well to new data. If a model cannot generalize well to new data, then it will not be able to perform the classification or prediction tasks that it was intended for.\n",
    "- 2. Unrepresentative Data Sample:\n",
    "    - An unrepresentative sample is one that does not reflect the distribution of characteristics of the target group, cannot be generalised to the target population, and is therefore biased. There are a number of different sampling methods.\n",
    "- This issue can be seen by the variance in model skill scores from cross-validation, much like having an unrepresentative data sample.\n",
    "- The difference here is that the variance can be cleared up by repeating the model evaluation process, e.g. cross-validation, in order to control for the randomness in training the model.\n",
    "- A large variance on cross-validation scores.\n",
    "- A large variance on similar model types on the test dataset."
   ]
  },
  {
   "cell_type": "code",
   "execution_count": 8,
   "id": "d9b71871",
   "metadata": {},
   "outputs": [],
   "source": [
    "max_depth = []\n",
    "test_acc = []\n",
    "train_acc = []\n",
    "for i in range(1,30):\n",
    "    dtree = DecisionTreeClassifier(random_state=0, max_depth=i)\n",
    "    dtree.fit(X_train, y_train)\n",
    "    test_pred = dtree.predict(X_test)\n",
    "    train_pred = dtree.predict(X_train)\n",
    "    test_acc.append(accuracy_score(y_test, test_pred))\n",
    "    train_acc.append(accuracy_score(y_train, train_pred))\n",
    "    max_depth.append(i)"
   ]
  },
  {
   "cell_type": "code",
   "execution_count": 9,
   "id": "31d1e08c",
   "metadata": {},
   "outputs": [],
   "source": [
    "d = pd.DataFrame({\"test_acc\":pd.Series(test_acc), \n",
    "    \"train_acc\":pd.Series(train_acc),\n",
    " \"max_depth\":pd.Series(max_depth)})"
   ]
  },
  {
   "cell_type": "code",
   "execution_count": 10,
   "id": "a2ff16f5",
   "metadata": {},
   "outputs": [
    {
     "data": {
      "text/html": [
       "<div>\n",
       "<style scoped>\n",
       "    .dataframe tbody tr th:only-of-type {\n",
       "        vertical-align: middle;\n",
       "    }\n",
       "\n",
       "    .dataframe tbody tr th {\n",
       "        vertical-align: top;\n",
       "    }\n",
       "\n",
       "    .dataframe thead th {\n",
       "        text-align: right;\n",
       "    }\n",
       "</style>\n",
       "<table border=\"1\" class=\"dataframe\">\n",
       "  <thead>\n",
       "    <tr style=\"text-align: right;\">\n",
       "      <th></th>\n",
       "      <th>test_acc</th>\n",
       "      <th>train_acc</th>\n",
       "      <th>max_depth</th>\n",
       "    </tr>\n",
       "  </thead>\n",
       "  <tbody>\n",
       "    <tr>\n",
       "      <th>12</th>\n",
       "      <td>0.8816</td>\n",
       "      <td>0.982133</td>\n",
       "      <td>13</td>\n",
       "    </tr>\n",
       "  </tbody>\n",
       "</table>\n",
       "</div>"
      ],
      "text/plain": [
       "    test_acc  train_acc  max_depth\n",
       "12    0.8816   0.982133         13"
      ]
     },
     "execution_count": 10,
     "metadata": {},
     "output_type": "execute_result"
    }
   ],
   "source": [
    "d[d[\"test_acc\"] == d[\"test_acc\"].max()]"
   ]
  },
  {
   "cell_type": "code",
   "execution_count": 11,
   "id": "1e791b28",
   "metadata": {},
   "outputs": [
    {
     "data": {
      "text/plain": [
       "<matplotlib.legend.Legend at 0x7fb9e8101ee0>"
      ]
     },
     "execution_count": 11,
     "metadata": {},
     "output_type": "execute_result"
    },
    {
     "data": {
      "image/png": "[encoded data removed]",
      "text/plain": [
       "<Figure size 432x288 with 1 Axes>"
      ]
     },
     "metadata": {
      "needs_background": "light"
     },
     "output_type": "display_data"
    }
   ],
   "source": [
    "plt.plot(\"max_depth\",\"test_acc\", data=d)\n",
    "plt.plot(\"max_depth\",\"train_acc\", data=d)\n",
    "plt.xlabel(\"max_depth\")\n",
    "plt.ylabel(\"accuracy\")\n",
    "plt.legend()"
   ]
  },
  {
   "cell_type": "code",
   "execution_count": 12,
   "id": "abd22fff",
   "metadata": {},
   "outputs": [],
   "source": [
    "data = pd.read_csv(\"exam_1_classification_option2.csv\")"
   ]
  },
  {
   "cell_type": "code",
   "execution_count": 13,
   "id": "ccb39694",
   "metadata": {},
   "outputs": [],
   "source": [
    "X = data.drop(columns='y')\n",
    "y= data['y']\n",
    "X_train, X_test, y_train, y_test = train_test_split(X,y, test_size=0.25, random_state=0)"
   ]
  },
  {
   "cell_type": "code",
   "execution_count": 14,
   "id": "a532930c",
   "metadata": {},
   "outputs": [],
   "source": [
    "from sklearn.tree import DecisionTreeClassifier\n",
    "dtc = DecisionTreeClassifier(random_state=0, max_depth=13)"
   ]
  },
  {
   "cell_type": "code",
   "execution_count": 15,
   "id": "77751cfa",
   "metadata": {},
   "outputs": [
    {
     "name": "stdout",
     "output_type": "stream",
     "text": [
      "0.8816\n",
      "0.9821333333333333\n"
     ]
    }
   ],
   "source": [
    "dtc.fit(X_train, y_train)\n",
    "test_pred = dtc.predict(X_test)\n",
    "train_pred = dtc.predict(X_train)\n",
    "print(accuracy_score(y_test, test_pred))\n",
    "print(accuracy_score(y_train, train_pred))"
   ]
  }
 ],
 "metadata": {
  "kernelspec": {
   "display_name": "Python 3 (ipykernel)",
   "language": "python",
   "name": "python3"
  },
  "language_info": {
   "codemirror_mode": {
    "name": "ipython",
    "version": 3
   },
   "file_extension": ".py",
   "mimetype": "text/x-python",
   "name": "python",
   "nbconvert_exporter": "python",
   "pygments_lexer": "ipython3",
   "version": "3.9.7"
  }
 },
 "nbformat": 4,
 "nbformat_minor": 5
}
