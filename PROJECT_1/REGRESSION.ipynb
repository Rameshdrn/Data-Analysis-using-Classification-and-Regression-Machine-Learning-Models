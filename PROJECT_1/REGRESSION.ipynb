{
 "cells": [
  {
   "cell_type": "code",
   "execution_count": 1,
   "id": "72b979a7",
   "metadata": {},
   "outputs": [
    {
     "data": {
      "text/html": [
       "<style>.container { width:80% !important; }</style>"
      ],
      "text/plain": [
       "<IPython.core.display.HTML object>"
      ]
     },
     "metadata": {},
     "output_type": "display_data"
    }
   ],
   "source": [
    "import pandas as pd\n",
    "pd.set_option('display.max_columns', 1500)\n",
    "\n",
    "import warnings\n",
    "warnings.filterwarnings('ignore')\n",
    "\n",
    "#Extend cell width\n",
    "from IPython.core.display import display, HTML\n",
    "display(HTML(\"<style>.container { width:80% !important; }</style>\"))"
   ]
  },
  {
   "cell_type": "code",
   "execution_count": 2,
   "id": "93c4e763",
   "metadata": {},
   "outputs": [],
   "source": [
    "import pandas as pd\n",
    "def describe_more(df,normalize_ind=False, weight_column=None, skip_columns=[], dropna=True):\n",
    "    var = [] ; l = [] ; t = []; unq =[]; min_l = []; max_l = [];\n",
    "    assert isinstance(skip_columns, list), \"Argument skip_columns should be list\"\n",
    "    if weight_column is not None:\n",
    "        if weight_column not in list(df.columns):\n",
    "            raise AssertionError('weight_column is not a valid column name in the input DataFrame')\n",
    "      \n",
    "    for x in df:\n",
    "        if x in skip_columns:\n",
    "            pass\n",
    "        else:\n",
    "            var.append( x )\n",
    "            uniq_counts = len(pd.value_counts(df[x],dropna=dropna))\n",
    "            uniq_counts = len(pd.value_counts(df[x], dropna=dropna)[pd.value_counts(df[x],dropna=dropna)>0])\n",
    "            l.append(uniq_counts)\n",
    "            t.append( df[ x ].dtypes )\n",
    "            min_l.append(df[x].apply(str).str.len().min())\n",
    "            max_l.append(df[x].apply(str).str.len().max())\n",
    "            if weight_column is not None and x not in skip_columns:\n",
    "                df2 = df.groupby(x).agg({weight_column: 'sum'}).sort_values(weight_column, ascending=False)\n",
    "                df2['authtrans_vts_cnt']=((df2[weight_column])/df2[weight_column].sum()).round(2)\n",
    "                unq.append(df2.head(n=100).to_dict()[weight_column])\n",
    "            else:\n",
    "                df_cat_d = df[x].value_counts(normalize=normalize_ind,dropna=dropna).round(decimals=2)\n",
    "                df_cat_d = df_cat_d[df_cat_d>0]\n",
    "                #unq.append(df[x].value_counts().iloc[0:100].to_dict())\n",
    "                unq.append(df_cat_d.iloc[0:100].to_dict())\n",
    "            \n",
    "    levels = pd.DataFrame( { 'A_Variable' : var , 'Levels' : l , 'Datatype' : t ,\n",
    "                             'Min Length' : min_l,\n",
    "                             'Max Length': max_l,\n",
    "                             'Level_Values' : unq} )\n",
    "    #levels.sort_values( by = 'Levels' , inplace = True )\n",
    "    return levels"
   ]
  },
  {
   "cell_type": "code",
   "execution_count": 3,
   "id": "4a1fba59",
   "metadata": {},
   "outputs": [],
   "source": [
    "#Load Data\n",
    "data  = pd.read_csv(\"exam_1_regression_option2.csv\")"
   ]
  },
  {
   "cell_type": "code",
   "execution_count": 4,
   "id": "935395da",
   "metadata": {
    "scrolled": true
   },
   "outputs": [
    {
     "data": {
      "text/html": [
       "<div>\n",
       "<style scoped>\n",
       "    .dataframe tbody tr th:only-of-type {\n",
       "        vertical-align: middle;\n",
       "    }\n",
       "\n",
       "    .dataframe tbody tr th {\n",
       "        vertical-align: top;\n",
       "    }\n",
       "\n",
       "    .dataframe thead th {\n",
       "        text-align: right;\n",
       "    }\n",
       "</style>\n",
       "<table border=\"1\" class=\"dataframe\">\n",
       "  <thead>\n",
       "    <tr style=\"text-align: right;\">\n",
       "      <th></th>\n",
       "      <th>MedInc</th>\n",
       "      <th>HouseAge</th>\n",
       "      <th>AveRooms</th>\n",
       "      <th>AveBedrms</th>\n",
       "      <th>Population</th>\n",
       "      <th>AveOccup</th>\n",
       "      <th>Latitude</th>\n",
       "      <th>Longitude</th>\n",
       "      <th>FtrNow</th>\n",
       "      <th>y</th>\n",
       "    </tr>\n",
       "  </thead>\n",
       "  <tbody>\n",
       "    <tr>\n",
       "      <th>0</th>\n",
       "      <td>8.3252</td>\n",
       "      <td>41.0</td>\n",
       "      <td>6.984127</td>\n",
       "      <td>1.023810</td>\n",
       "      <td>322.0</td>\n",
       "      <td>2.555556</td>\n",
       "      <td>37.88</td>\n",
       "      <td>-122.23</td>\n",
       "      <td>5.151375</td>\n",
       "      <td>4.526</td>\n",
       "    </tr>\n",
       "    <tr>\n",
       "      <th>1</th>\n",
       "      <td>8.3014</td>\n",
       "      <td>21.0</td>\n",
       "      <td>6.238137</td>\n",
       "      <td>0.971880</td>\n",
       "      <td>2401.0</td>\n",
       "      <td>2.109842</td>\n",
       "      <td>37.86</td>\n",
       "      <td>-122.22</td>\n",
       "      <td>4.513415</td>\n",
       "      <td>3.585</td>\n",
       "    </tr>\n",
       "    <tr>\n",
       "      <th>2</th>\n",
       "      <td>7.2574</td>\n",
       "      <td>52.0</td>\n",
       "      <td>8.288136</td>\n",
       "      <td>1.073446</td>\n",
       "      <td>496.0</td>\n",
       "      <td>2.802260</td>\n",
       "      <td>37.85</td>\n",
       "      <td>-122.24</td>\n",
       "      <td>3.879296</td>\n",
       "      <td>3.521</td>\n",
       "    </tr>\n",
       "    <tr>\n",
       "      <th>3</th>\n",
       "      <td>5.6431</td>\n",
       "      <td>52.0</td>\n",
       "      <td>5.817352</td>\n",
       "      <td>1.073059</td>\n",
       "      <td>558.0</td>\n",
       "      <td>2.547945</td>\n",
       "      <td>37.85</td>\n",
       "      <td>-122.25</td>\n",
       "      <td>3.128234</td>\n",
       "      <td>3.413</td>\n",
       "    </tr>\n",
       "    <tr>\n",
       "      <th>4</th>\n",
       "      <td>3.8462</td>\n",
       "      <td>52.0</td>\n",
       "      <td>6.281853</td>\n",
       "      <td>1.081081</td>\n",
       "      <td>565.0</td>\n",
       "      <td>2.181467</td>\n",
       "      <td>37.85</td>\n",
       "      <td>-122.25</td>\n",
       "      <td>3.539673</td>\n",
       "      <td>3.422</td>\n",
       "    </tr>\n",
       "  </tbody>\n",
       "</table>\n",
       "</div>"
      ],
      "text/plain": [
       "   MedInc  HouseAge  AveRooms  AveBedrms  Population  AveOccup  Latitude  \\\n",
       "0  8.3252      41.0  6.984127   1.023810       322.0  2.555556     37.88   \n",
       "1  8.3014      21.0  6.238137   0.971880      2401.0  2.109842     37.86   \n",
       "2  7.2574      52.0  8.288136   1.073446       496.0  2.802260     37.85   \n",
       "3  5.6431      52.0  5.817352   1.073059       558.0  2.547945     37.85   \n",
       "4  3.8462      52.0  6.281853   1.081081       565.0  2.181467     37.85   \n",
       "\n",
       "   Longitude    FtrNow      y  \n",
       "0    -122.23  5.151375  4.526  \n",
       "1    -122.22  4.513415  3.585  \n",
       "2    -122.24  3.879296  3.521  \n",
       "3    -122.25  3.128234  3.413  \n",
       "4    -122.25  3.539673  3.422  "
      ]
     },
     "execution_count": 4,
     "metadata": {},
     "output_type": "execute_result"
    }
   ],
   "source": [
    "data.head()"
   ]
  },
  {
   "cell_type": "code",
   "execution_count": 5,
   "id": "7ebcff5f",
   "metadata": {},
   "outputs": [
    {
     "data": {
      "text/html": [
       "<div>\n",
       "<style scoped>\n",
       "    .dataframe tbody tr th:only-of-type {\n",
       "        vertical-align: middle;\n",
       "    }\n",
       "\n",
       "    .dataframe tbody tr th {\n",
       "        vertical-align: top;\n",
       "    }\n",
       "\n",
       "    .dataframe thead th {\n",
       "        text-align: right;\n",
       "    }\n",
       "</style>\n",
       "<table border=\"1\" class=\"dataframe\">\n",
       "  <thead>\n",
       "    <tr style=\"text-align: right;\">\n",
       "      <th></th>\n",
       "      <th>A_Variable</th>\n",
       "      <th>Levels</th>\n",
       "      <th>Datatype</th>\n",
       "      <th>Min Length</th>\n",
       "      <th>Max Length</th>\n",
       "      <th>Level_Values</th>\n",
       "    </tr>\n",
       "  </thead>\n",
       "  <tbody>\n",
       "    <tr>\n",
       "      <th>0</th>\n",
       "      <td>MedInc</td>\n",
       "      <td>12928</td>\n",
       "      <td>float64</td>\n",
       "      <td>3</td>\n",
       "      <td>7</td>\n",
       "      <td>{3.125: 49, 15.0001: 49, 2.875: 46, 2.625: 44,...</td>\n",
       "    </tr>\n",
       "    <tr>\n",
       "      <th>1</th>\n",
       "      <td>HouseAge</td>\n",
       "      <td>52</td>\n",
       "      <td>float64</td>\n",
       "      <td>3</td>\n",
       "      <td>4</td>\n",
       "      <td>{52.0: 1273, 36.0: 862, 35.0: 824, 16.0: 771, ...</td>\n",
       "    </tr>\n",
       "    <tr>\n",
       "      <th>2</th>\n",
       "      <td>AveRooms</td>\n",
       "      <td>19392</td>\n",
       "      <td>float64</td>\n",
       "      <td>3</td>\n",
       "      <td>18</td>\n",
       "      <td>{5.0: 27, 4.5: 22, 4.0: 21, 6.0: 20, 5.3333333...</td>\n",
       "    </tr>\n",
       "    <tr>\n",
       "      <th>3</th>\n",
       "      <td>AveBedrms</td>\n",
       "      <td>14233</td>\n",
       "      <td>float64</td>\n",
       "      <td>3</td>\n",
       "      <td>18</td>\n",
       "      <td>{1.0: 288, 1.125: 29, 1.0588235294117647: 26, ...</td>\n",
       "    </tr>\n",
       "    <tr>\n",
       "      <th>4</th>\n",
       "      <td>Population</td>\n",
       "      <td>3888</td>\n",
       "      <td>float64</td>\n",
       "      <td>3</td>\n",
       "      <td>7</td>\n",
       "      <td>{891.0: 25, 761.0: 24, 1227.0: 24, 1052.0: 24,...</td>\n",
       "    </tr>\n",
       "    <tr>\n",
       "      <th>5</th>\n",
       "      <td>AveOccup</td>\n",
       "      <td>18841</td>\n",
       "      <td>float64</td>\n",
       "      <td>3</td>\n",
       "      <td>18</td>\n",
       "      <td>{3.0: 35, 2.0: 18, 2.5: 17, 2.6666666666666665...</td>\n",
       "    </tr>\n",
       "    <tr>\n",
       "      <th>6</th>\n",
       "      <td>Latitude</td>\n",
       "      <td>862</td>\n",
       "      <td>float64</td>\n",
       "      <td>4</td>\n",
       "      <td>5</td>\n",
       "      <td>{34.06: 244, 34.05: 236, 34.08: 234, 34.07: 23...</td>\n",
       "    </tr>\n",
       "    <tr>\n",
       "      <th>7</th>\n",
       "      <td>Longitude</td>\n",
       "      <td>844</td>\n",
       "      <td>float64</td>\n",
       "      <td>6</td>\n",
       "      <td>7</td>\n",
       "      <td>{-118.31: 162, -118.3: 160, -118.29: 148, -118...</td>\n",
       "    </tr>\n",
       "    <tr>\n",
       "      <th>8</th>\n",
       "      <td>FtrNow</td>\n",
       "      <td>20640</td>\n",
       "      <td>float64</td>\n",
       "      <td>13</td>\n",
       "      <td>22</td>\n",
       "      <td>{5.151374784848136: 1, 6.6407108292722485: 1, ...</td>\n",
       "    </tr>\n",
       "    <tr>\n",
       "      <th>9</th>\n",
       "      <td>y</td>\n",
       "      <td>3842</td>\n",
       "      <td>float64</td>\n",
       "      <td>3</td>\n",
       "      <td>7</td>\n",
       "      <td>{5.00001: 965, 1.375: 122, 1.625: 117, 1.125: ...</td>\n",
       "    </tr>\n",
       "  </tbody>\n",
       "</table>\n",
       "</div>"
      ],
      "text/plain": [
       "   A_Variable  Levels Datatype  Min Length  Max Length  \\\n",
       "0      MedInc   12928  float64           3           7   \n",
       "1    HouseAge      52  float64           3           4   \n",
       "2    AveRooms   19392  float64           3          18   \n",
       "3   AveBedrms   14233  float64           3          18   \n",
       "4  Population    3888  float64           3           7   \n",
       "5    AveOccup   18841  float64           3          18   \n",
       "6    Latitude     862  float64           4           5   \n",
       "7   Longitude     844  float64           6           7   \n",
       "8      FtrNow   20640  float64          13          22   \n",
       "9           y    3842  float64           3           7   \n",
       "\n",
       "                                        Level_Values  \n",
       "0  {3.125: 49, 15.0001: 49, 2.875: 46, 2.625: 44,...  \n",
       "1  {52.0: 1273, 36.0: 862, 35.0: 824, 16.0: 771, ...  \n",
       "2  {5.0: 27, 4.5: 22, 4.0: 21, 6.0: 20, 5.3333333...  \n",
       "3  {1.0: 288, 1.125: 29, 1.0588235294117647: 26, ...  \n",
       "4  {891.0: 25, 761.0: 24, 1227.0: 24, 1052.0: 24,...  \n",
       "5  {3.0: 35, 2.0: 18, 2.5: 17, 2.6666666666666665...  \n",
       "6  {34.06: 244, 34.05: 236, 34.08: 234, 34.07: 23...  \n",
       "7  {-118.31: 162, -118.3: 160, -118.29: 148, -118...  \n",
       "8  {5.151374784848136: 1, 6.6407108292722485: 1, ...  \n",
       "9  {5.00001: 965, 1.375: 122, 1.625: 117, 1.125: ...  "
      ]
     },
     "execution_count": 5,
     "metadata": {},
     "output_type": "execute_result"
    }
   ],
   "source": [
    "desc_df = describe_more(data)\n",
    "desc_df"
   ]
  },
  {
   "cell_type": "markdown",
   "id": "c14917df",
   "metadata": {},
   "source": [
    "## Dataset preparation and clean-up"
   ]
  },
  {
   "cell_type": "code",
   "execution_count": 6,
   "id": "8fe15fc7",
   "metadata": {
    "scrolled": true
   },
   "outputs": [
    {
     "name": "stdout",
     "output_type": "stream",
     "text": [
      "MedInc 0\n",
      "HouseAge 0\n",
      "AveRooms 0\n",
      "AveBedrms 0\n",
      "Population 0\n",
      "AveOccup 0\n",
      "Latitude 0\n",
      "Longitude 0\n",
      "FtrNow 0\n",
      "y 0\n"
     ]
    }
   ],
   "source": [
    "for cols in data:\n",
    "    print(cols,data[cols].isnull().sum())"
   ]
  },
  {
   "cell_type": "markdown",
   "id": "611ff823",
   "metadata": {},
   "source": [
    "## Categorical Variables Encoding"
   ]
  },
  {
   "cell_type": "code",
   "execution_count": 7,
   "id": "887388a4",
   "metadata": {},
   "outputs": [],
   "source": [
    "from sklearn.model_selection import train_test_split\n",
    "X = data.drop(columns=['y'])\n",
    "y = data['y']\n",
    "X_train, X_test, y_train, y_test = train_test_split(X, y, test_size=0.25, random_state=0)"
   ]
  },
  {
   "cell_type": "code",
   "execution_count": 8,
   "id": "1490f2ee",
   "metadata": {},
   "outputs": [
    {
     "data": {
      "text/html": [
       "<div>\n",
       "<style scoped>\n",
       "    .dataframe tbody tr th:only-of-type {\n",
       "        vertical-align: middle;\n",
       "    }\n",
       "\n",
       "    .dataframe tbody tr th {\n",
       "        vertical-align: top;\n",
       "    }\n",
       "\n",
       "    .dataframe thead th {\n",
       "        text-align: right;\n",
       "    }\n",
       "</style>\n",
       "<table border=\"1\" class=\"dataframe\">\n",
       "  <thead>\n",
       "    <tr style=\"text-align: right;\">\n",
       "      <th></th>\n",
       "      <th>MedInc</th>\n",
       "      <th>HouseAge</th>\n",
       "      <th>AveRooms</th>\n",
       "      <th>AveBedrms</th>\n",
       "      <th>Population</th>\n",
       "      <th>AveOccup</th>\n",
       "      <th>Latitude</th>\n",
       "      <th>Longitude</th>\n",
       "      <th>FtrNow</th>\n",
       "    </tr>\n",
       "  </thead>\n",
       "  <tbody>\n",
       "    <tr>\n",
       "      <th>19226</th>\n",
       "      <td>7.3003</td>\n",
       "      <td>19.0</td>\n",
       "      <td>7.961600</td>\n",
       "      <td>1.137600</td>\n",
       "      <td>1926.0</td>\n",
       "      <td>3.081600</td>\n",
       "      <td>38.46</td>\n",
       "      <td>-122.68</td>\n",
       "      <td>1.811139</td>\n",
       "    </tr>\n",
       "    <tr>\n",
       "      <th>14549</th>\n",
       "      <td>5.9547</td>\n",
       "      <td>18.0</td>\n",
       "      <td>6.547325</td>\n",
       "      <td>1.102881</td>\n",
       "      <td>547.0</td>\n",
       "      <td>2.251029</td>\n",
       "      <td>32.95</td>\n",
       "      <td>-117.24</td>\n",
       "      <td>4.782590</td>\n",
       "    </tr>\n",
       "    <tr>\n",
       "      <th>9093</th>\n",
       "      <td>3.2125</td>\n",
       "      <td>19.0</td>\n",
       "      <td>5.207547</td>\n",
       "      <td>1.216981</td>\n",
       "      <td>314.0</td>\n",
       "      <td>2.962264</td>\n",
       "      <td>34.68</td>\n",
       "      <td>-118.27</td>\n",
       "      <td>3.931632</td>\n",
       "    </tr>\n",
       "    <tr>\n",
       "      <th>12213</th>\n",
       "      <td>6.9930</td>\n",
       "      <td>13.0</td>\n",
       "      <td>6.428571</td>\n",
       "      <td>1.000000</td>\n",
       "      <td>120.0</td>\n",
       "      <td>2.857143</td>\n",
       "      <td>33.51</td>\n",
       "      <td>-117.18</td>\n",
       "      <td>-0.551532</td>\n",
       "    </tr>\n",
       "    <tr>\n",
       "      <th>12765</th>\n",
       "      <td>2.5162</td>\n",
       "      <td>21.0</td>\n",
       "      <td>4.429348</td>\n",
       "      <td>1.036685</td>\n",
       "      <td>1735.0</td>\n",
       "      <td>2.357337</td>\n",
       "      <td>38.62</td>\n",
       "      <td>-121.41</td>\n",
       "      <td>2.415407</td>\n",
       "    </tr>\n",
       "    <tr>\n",
       "      <th>...</th>\n",
       "      <td>...</td>\n",
       "      <td>...</td>\n",
       "      <td>...</td>\n",
       "      <td>...</td>\n",
       "      <td>...</td>\n",
       "      <td>...</td>\n",
       "      <td>...</td>\n",
       "      <td>...</td>\n",
       "      <td>...</td>\n",
       "    </tr>\n",
       "    <tr>\n",
       "      <th>13123</th>\n",
       "      <td>4.4125</td>\n",
       "      <td>20.0</td>\n",
       "      <td>6.000000</td>\n",
       "      <td>1.045662</td>\n",
       "      <td>712.0</td>\n",
       "      <td>3.251142</td>\n",
       "      <td>38.27</td>\n",
       "      <td>-121.26</td>\n",
       "      <td>1.222622</td>\n",
       "    </tr>\n",
       "    <tr>\n",
       "      <th>19648</th>\n",
       "      <td>2.9135</td>\n",
       "      <td>27.0</td>\n",
       "      <td>5.349282</td>\n",
       "      <td>0.933014</td>\n",
       "      <td>647.0</td>\n",
       "      <td>3.095694</td>\n",
       "      <td>37.48</td>\n",
       "      <td>-120.89</td>\n",
       "      <td>3.047139</td>\n",
       "    </tr>\n",
       "    <tr>\n",
       "      <th>9845</th>\n",
       "      <td>3.1977</td>\n",
       "      <td>31.0</td>\n",
       "      <td>3.641221</td>\n",
       "      <td>0.941476</td>\n",
       "      <td>704.0</td>\n",
       "      <td>1.791349</td>\n",
       "      <td>36.58</td>\n",
       "      <td>-121.90</td>\n",
       "      <td>5.119535</td>\n",
       "    </tr>\n",
       "    <tr>\n",
       "      <th>10799</th>\n",
       "      <td>5.6315</td>\n",
       "      <td>34.0</td>\n",
       "      <td>4.540598</td>\n",
       "      <td>1.064103</td>\n",
       "      <td>1052.0</td>\n",
       "      <td>2.247863</td>\n",
       "      <td>33.62</td>\n",
       "      <td>-117.93</td>\n",
       "      <td>1.150741</td>\n",
       "    </tr>\n",
       "    <tr>\n",
       "      <th>2732</th>\n",
       "      <td>1.3882</td>\n",
       "      <td>15.0</td>\n",
       "      <td>3.929530</td>\n",
       "      <td>1.100671</td>\n",
       "      <td>1024.0</td>\n",
       "      <td>3.436242</td>\n",
       "      <td>32.80</td>\n",
       "      <td>-115.56</td>\n",
       "      <td>2.493958</td>\n",
       "    </tr>\n",
       "  </tbody>\n",
       "</table>\n",
       "<p>15480 rows × 9 columns</p>\n",
       "</div>"
      ],
      "text/plain": [
       "       MedInc  HouseAge  AveRooms  AveBedrms  Population  AveOccup  Latitude  \\\n",
       "19226  7.3003      19.0  7.961600   1.137600      1926.0  3.081600     38.46   \n",
       "14549  5.9547      18.0  6.547325   1.102881       547.0  2.251029     32.95   \n",
       "9093   3.2125      19.0  5.207547   1.216981       314.0  2.962264     34.68   \n",
       "12213  6.9930      13.0  6.428571   1.000000       120.0  2.857143     33.51   \n",
       "12765  2.5162      21.0  4.429348   1.036685      1735.0  2.357337     38.62   \n",
       "...       ...       ...       ...        ...         ...       ...       ...   \n",
       "13123  4.4125      20.0  6.000000   1.045662       712.0  3.251142     38.27   \n",
       "19648  2.9135      27.0  5.349282   0.933014       647.0  3.095694     37.48   \n",
       "9845   3.1977      31.0  3.641221   0.941476       704.0  1.791349     36.58   \n",
       "10799  5.6315      34.0  4.540598   1.064103      1052.0  2.247863     33.62   \n",
       "2732   1.3882      15.0  3.929530   1.100671      1024.0  3.436242     32.80   \n",
       "\n",
       "       Longitude    FtrNow  \n",
       "19226    -122.68  1.811139  \n",
       "14549    -117.24  4.782590  \n",
       "9093     -118.27  3.931632  \n",
       "12213    -117.18 -0.551532  \n",
       "12765    -121.41  2.415407  \n",
       "...          ...       ...  \n",
       "13123    -121.26  1.222622  \n",
       "19648    -120.89  3.047139  \n",
       "9845     -121.90  5.119535  \n",
       "10799    -117.93  1.150741  \n",
       "2732     -115.56  2.493958  \n",
       "\n",
       "[15480 rows x 9 columns]"
      ]
     },
     "execution_count": 8,
     "metadata": {},
     "output_type": "execute_result"
    }
   ],
   "source": [
    "X_train"
   ]
  },
  {
   "cell_type": "code",
   "execution_count": 9,
   "id": "c8dcd7d3",
   "metadata": {},
   "outputs": [
    {
     "data": {
      "text/plain": [
       "19226    3.81300\n",
       "14549    3.29300\n",
       "9093     1.85400\n",
       "12213    5.00001\n",
       "12765    0.97500\n",
       "          ...   \n",
       "13123    1.44600\n",
       "19648    1.59400\n",
       "9845     2.89300\n",
       "10799    4.84600\n",
       "2732     0.69400\n",
       "Name: y, Length: 15480, dtype: float64"
      ]
     },
     "execution_count": 9,
     "metadata": {},
     "output_type": "execute_result"
    }
   ],
   "source": [
    "y_train"
   ]
  },
  {
   "cell_type": "code",
   "execution_count": 10,
   "id": "9b7c40ae",
   "metadata": {},
   "outputs": [],
   "source": [
    "#Cross Validation"
   ]
  },
  {
   "cell_type": "code",
   "execution_count": 11,
   "id": "80ad9d3c",
   "metadata": {},
   "outputs": [
    {
     "name": "stdout",
     "output_type": "stream",
     "text": [
      "0.6110025365144904\n",
      "0.5910143371725294\n",
      "0.6110025365144904\n",
      "0.5910143371725294\n",
      "0.5369470785294985\n"
     ]
    }
   ],
   "source": [
    "from sklearn.linear_model import LinearRegression\n",
    "import numpy as np\n",
    "\n",
    "lreg = LinearRegression()\n",
    "lreg.fit(X_train, y_train)\n",
    "y_train_pred = lreg.predict(X_train)\n",
    "y_test_pred = lreg.predict(X_test)\n",
    "print(lreg.score(X_train, y_train))\n",
    "print(lreg.score(X_test, y_test))\n",
    "from sklearn import metrics\n",
    "print(metrics.r2_score(y_train, y_train_pred))\n",
    "print(metrics.r2_score(y_test, y_test_pred))\n",
    "mae1 = metrics.mean_absolute_error(y_test, y_test_pred)\n",
    "print(mae1)"
   ]
  },
  {
   "cell_type": "code",
   "execution_count": 13,
   "id": "7ea1aa7f",
   "metadata": {},
   "outputs": [
    {
     "data": {
      "text/plain": [
       "array([ 4.39141668e-01,  9.59794094e-03, -1.03392107e-01,  6.16904526e-01,\n",
       "       -7.66594054e-06, -4.48834274e-03, -4.17365624e-01, -4.30658154e-01,\n",
       "       -2.90447674e-03])"
      ]
     },
     "execution_count": 13,
     "metadata": {},
     "output_type": "execute_result"
    }
   ],
   "source": [
    "lreg.coef_"
   ]
  },
  {
   "cell_type": "code",
   "execution_count": 14,
   "id": "df527eb2",
   "metadata": {},
   "outputs": [],
   "source": [
    "t=(abs(lreg.coef_))"
   ]
  },
  {
   "cell_type": "code",
   "execution_count": 15,
   "id": "5983e5f4",
   "metadata": {},
   "outputs": [
    {
     "data": {
      "text/plain": [
       "array([4.39141668e-01, 9.59794094e-03, 1.03392107e-01, 6.16904526e-01,\n",
       "       7.66594054e-06, 4.48834274e-03, 4.17365624e-01, 4.30658154e-01,\n",
       "       2.90447674e-03])"
      ]
     },
     "execution_count": 15,
     "metadata": {},
     "output_type": "execute_result"
    }
   ],
   "source": [
    "t"
   ]
  },
  {
   "cell_type": "code",
   "execution_count": 16,
   "id": "e52f528e",
   "metadata": {},
   "outputs": [],
   "source": [
    "list(t).sort()"
   ]
  },
  {
   "cell_type": "code",
   "execution_count": 17,
   "id": "243cf9af",
   "metadata": {},
   "outputs": [
    {
     "data": {
      "text/plain": [
       "[0.43914166770545526,\n",
       " 0.009597940937326362,\n",
       " 0.10339210684985622,\n",
       " 0.6169045259271737,\n",
       " 7.665940544297409e-06,\n",
       " 0.0044883427436252284,\n",
       " 0.41736562414162076,\n",
       " 0.4306581539328364,\n",
       " 0.002904476735775579]"
      ]
     },
     "execution_count": 17,
     "metadata": {},
     "output_type": "execute_result"
    }
   ],
   "source": [
    "list(t)"
   ]
  },
  {
   "cell_type": "markdown",
   "id": "b76e9a0b",
   "metadata": {},
   "source": [
    "The coefficients of a direct model are a restrictive affiliation: they evaluate the variety of a the result (the cost) when the given component is shifted, keeping any remaining elements steady. We shouldn't decipher them as a peripheral affiliation, describing the connection between the two amounts disregarding the remainder.\n",
    "\n",
    "The coefficient related to AveRooms is negative on the grounds that the quantity of rooms is emphatically associated with the quantity of rooms, AveBedrms. How the situation is playing out here is that for regions where the houses have similar number of rooms overall, when there are more rooms (henceforth non-room rooms), the houses are worth relatively less."
   ]
  }
 ],
 "metadata": {
  "kernelspec": {
   "display_name": "Python 3 (ipykernel)",
   "language": "python",
   "name": "python3"
  },
  "language_info": {
   "codemirror_mode": {
    "name": "ipython",
    "version": 3
   },
   "file_extension": ".py",
   "mimetype": "text/x-python",
   "name": "python",
   "nbconvert_exporter": "python",
   "pygments_lexer": "ipython3",
   "version": "3.9.7"
  }
 },
 "nbformat": 4,
 "nbformat_minor": 5
}
